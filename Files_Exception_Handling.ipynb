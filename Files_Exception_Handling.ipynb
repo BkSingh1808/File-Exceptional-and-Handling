{
  "nbformat": 4,
  "nbformat_minor": 0,
  "metadata": {
    "colab": {
      "provenance": []
    },
    "kernelspec": {
      "name": "python3",
      "display_name": "Python 3"
    },
    "language_info": {
      "name": "python"
    }
  },
  "cells": [
    {
      "cell_type": "markdown",
      "source": [
        "# Files, exceptional handling, logging and memory management Questions\n"
      ],
      "metadata": {
        "id": "YHNs767616Za"
      }
    },
    {
      "cell_type": "markdown",
      "source": [
        "1. What is the difference between interpreted and compiled language?\n",
        "  -  * Compiled Language-\n",
        "      1. In complied langauge Code is translated entirely into machine\n",
        "         code before it is run.\n",
        "      2. Generally faster at runtime, since translation is already done.\n",
        "       Examples- C, C++, Rust etc.\n",
        "     * Interpreted Language-\n",
        "      1. In interpreted language Code is read and executed line-by-line\n",
        "         by an interpreter at runtime.\n",
        "      2. Generally slower because it's interpreted on the fly.\n",
        "       Examples- Python, JavaScipt, Ruby etc.\n",
        "\n",
        "2. What is exception handling in Python?\n",
        "  -  Exception handling in Python is a way to deal with errors that\n",
        "     occur during program execution without crashing the whole program.\n",
        "     Without using it, your program will crash when it encounters an error. With exception handling, you can catch the error, handle it, and continue running.\n",
        "     SYNTAX-\n",
        "            try: # Code that might raise an exception\n",
        "               x = 10 / 0\n",
        "            except ZeroDivisionError:  # Code to run if an exception occurs\n",
        "               print(\"You can't divide by zero.\")\n",
        "    \n",
        "3. What is the purpose of the finally block in exception handling?\n",
        "  -  The finally block in Python exception handling is used to define\n",
        "     code that always runs, no matter what happens in the try or except blocks.\n",
        "     SYNTAX-\n",
        "           try:\n",
        "             file = open(\"data.txt\", \"r\")\n",
        "             content = file.read()\n",
        "           except FileNotFoundError:\n",
        "             print(\"File not found.\")\n",
        "           finally:\n",
        "             print(\"Closing the file.\")\n",
        "             file.close()  # Always runs, even if there's an error\n",
        "\n",
        "4. What is logging in Python?\n",
        "  -  Logging in Python is the process of recording events that happen\n",
        "     during a program's execution. It helps developers track the flow, debug issues, and monitor applications without using print() statements.\n",
        "\n",
        "5.  What is the significance of the __del__ method in Python?\n",
        "  -  The __del__ method in Python is a special method called a destructor.\n",
        "     It's automatically invoked when an object is about to be destroyed — i.e., when there are no more references to the object and it is used to clean up resources before an object is garbage collected.\n",
        "     SYNTAX-\n",
        "           class MyClass:\n",
        "               def __del__(self):\n",
        "               print(\"Destructor called. Cleaning up.\")\n",
        "\n",
        "           obj = MyClass()\n",
        "           del obj  # Calls __del__ immediately (if no other references)\n",
        "          \n",
        "6. What is the difference between import and from ... import in Python?\n",
        "  -  Import module-\n",
        "                  1. This imports the entire module, and you have to use\n",
        "                     the module name to access anything inside it.\n",
        "                  2. It clears where each function comes from.\n",
        "                  SYNTAX-\n",
        "                  import math\n",
        "                  print(math.sqrt(16))  # Access using math.\n",
        "     from module import name-\n",
        "                  1. This imports specific parts (functions,\n",
        "                     variables,  classes) directly into your namespace.\n",
        "                  2. It is cleaner and shorter syntax.\n",
        "                  SYNTAX-\n",
        "                  from math import sqrt\n",
        "                  print(sqrt(16))  # No need to prefix with math.\n",
        "\n",
        "7. How can you handle multiple exceptions in Python?\n",
        "  -  In Python, you can handle multiple exceptions in several clean\n",
        "     and structured ways using the try and except blocks.\n",
        "     SYNTAX-\n",
        "       try:\n",
        "          x = int(input(\"Enter a number: \"))\n",
        "          result = 10 / x\n",
        "       except ValueError:\n",
        "          print(\"Invalid input. Please enter a number.\")\n",
        "       except ZeroDivisionError:\n",
        "          print(\"You can't divide by zero.\")\n",
        "\n",
        "8. What is the purpose of the with statement when handling files in Python?\n",
        "  -  The with statement in Python is used to simplify and manage\n",
        "     resource handling, especially when working with files. It ensures that resources like files are properly opened and automatically closed, even if an error occurs.\n",
        "     * Automatically closes the file when the block ends.\n",
        "     * Prevents resource leaks.\n",
        "     * Makes code cleaner and safer.\n",
        "     * Eliminates the need to call file.close() manually.\n",
        "     SYNTAX-\n",
        "        with open('data.txt', 'r') as file:\n",
        "             content = file.read() # File is automatically closed here\n",
        "\n",
        "9. What is the difference between multithreading and multiprocessing?\n",
        "  -  The key difference between multithreading and multiprocessing in Python\n",
        "     is how they handle concurrent execution and how they use the system’s CPU cores.\n",
        "     Multithreading-\n",
        "     * Multiple threads within one process.\n",
        "     * Concurrent threads (shared memory)\n",
        "     * Runs on a single core due to GIL.\n",
        "     * I/O-bound tasks (e.g., network, disk).\n",
        "    SYNTAX-\n",
        "       import threading\n",
        "\n",
        "       def download():\n",
        "           print(\"Downloading...\")\n",
        "\n",
        "       t1 = threading.Thread(target=download)\n",
        "       t2 = threading.Thread(target=download)\n",
        "\n",
        "       t1.start()\n",
        "       t2.start()\n",
        "\n",
        "    \n",
        "     Multiprocessing-\n",
        "     * Multiple independent processes.\n",
        "     * True parallelism (separate memory spaces).\n",
        "     * Can use multiple cores.\n",
        "     * CPU-bound tasks (e.g., math, data processing).\n",
        "     SYNTAX-\n",
        "        import multiprocessing\n",
        "\n",
        "        def calculate():\n",
        "            print(\"Calculating...\")\n",
        "\n",
        "        p1 = multiprocessing.Process(target=calculate)\n",
        "        p2 = multiprocessing.Process(target=calculate)\n",
        "\n",
        "        p1.start()\n",
        "        p2.start()\n",
        "\n",
        "10. What are the advantages of using logging in a program?\n",
        "  -  Using logging in a program offers several practical and\n",
        "     professional advantages:-\n",
        "     * Helps in Debugging and Troubleshooting.\n",
        "     * Supports Multiple Severity Levels.\n",
        "     * Organized Output (Can Log to Files, Not Just Console).\n",
        "     * Configurable and Flexible.\n",
        "     * Useful for Monitoring in Production.\n",
        "     * Replaces Print Statements in Professional Code.\n",
        "\n",
        "11. What is memory management in Python?\n",
        "  -  Memory management in Python refers to how Python allocates,\n",
        "     uses, and frees memory during the execution of a program. It's crucial for optimizing performance and avoiding memory leaks.   \n",
        "\n",
        "12. What are the basic steps involved in exception handling in Python?\n",
        "  -  Step 1-Write risky code inside a try block\n",
        "           try:  #\tRun code that might raise errors\n",
        "              result = 10 / int(input(\"Enter a number: \"))\n",
        "     Step 2-Catch exceptions using except block(s)\n",
        "           except ZeroDivisionError:  # Handle specific exceptions\n",
        "              print(\"Can't divide by zero!\")\n",
        "           except ValueError:\n",
        "              print(\"Please enter a valid number.\")\n",
        "     Step 3-Use else block if Needed\n",
        "           else:  # Run if no exceptions occurred\n",
        "              print(\"Result is:\", result)\n",
        "     Step 4-Use finally block if needed\n",
        "          finally:  # Run regardless (cleanup code)\n",
        "              print(\"Done.\")\n",
        "\n",
        "13. Why is memory management important in Python?\n",
        "  -  Memory management is important in Python because it ensures that\n",
        "     your program uses memory efficiently and safely, which helps with:\n",
        "     * Preventing Memory Leaks.\n",
        "     * Optimizing Performance.\n",
        "     * Ensuring Program Stability.\n",
        "     * Simplifying Development.\n",
        "     * Supporting Scalability.\n",
        "\n",
        "14. What is the role of try and except in exception handling?\n",
        "  -  The try and except blocks are the core of exception handling in Python:-\n",
        "     * The try block contains the code that might raise an exception (an error).\n",
        "     * Python runs this code normally unless an exception happens.\n",
        "     * If an exception occurs, Python immediately stops executing the\n",
        "       try block and looks for an appropriate except block to handle it.\n",
        "     * The except block catches and handles specific exceptions raised\n",
        "       in the try block.\n",
        "     * It lets you define what to do when an error occurs, like showing\n",
        "       an error message, logging the error, or recovering from it.\n",
        "     * You can have multiple except blocks to handle different\n",
        "       exception types differently.\n",
        "\n",
        "15. How does Python's garbage collection system work?\n",
        "  -  Python's garbage collection (GC) system automatically frees up\n",
        "     memory by removing objects that are no longer needed, helping manage memory efficiently and preventing leaks.\n",
        "     1. Reference Counting (Primary Mechanism)-\n",
        "       a = []      # ref count of the list is 1\n",
        "       b = a       # ref count becomes 2\n",
        "       del a       # ref count decreases to 1\n",
        "       del b       # ref count becomes 0 → object freed\n",
        "     2. Garbage Collector for Cycles-\n",
        "       class Node:\n",
        "           def __init__(self):\n",
        "               self.other = None\n",
        "\n",
        "           a = Node()\n",
        "           b = Node()\n",
        "           a.other = b\n",
        "           b.other = a\n",
        "\n",
        "           del a\n",
        "           del b\n",
        "           # Objects still reference each other, so ref count isn't zero\n",
        "      import gc\n",
        "      gc.collect()  # Cleans up these cycles.\n",
        "\n",
        "16. What is the purpose of the else block in exception handling?\n",
        "  -   Purpose of the else Block\n",
        "     * The else block in Python's exception handling is used to define\n",
        "       code that should run only if no exception occurs in the try block.\n",
        "     * It separates the code that should run only when the try block succeeds.\n",
        "     * Makes the code cleaner by keeping non-error logic out of the try block.\n",
        "     * Useful for actions that should happen only if no error was raised.\n",
        "\n",
        "17.  What are the common logging levels in Python?\n",
        "  -  Python's logging module provides five standard logging levels,\n",
        "     each representing the severity or importance of a log message.\n",
        "     Common Logging Levels in Python are:-\n",
        "     1. DEBUG-Detailed information for diagnosing problems. Used mostly\n",
        "        during development.\n",
        "     2. INFO-General events that confirm things are working as expected.\n",
        "     3. WARNING-Something unexpected happened, but the program is still running.\n",
        "     4. ERROR-A serious issue that caused a function or part of the program\n",
        "        to fail.\n",
        "     5. CRITICAL-A very serious error. The program itself may not be\n",
        "        able to continue running.\n",
        "\n",
        "18. What is the difference between os.fork() and multiprocessing in Python?\n",
        "  -  The difference between os.fork() and the multiprocessing module in\n",
        "     Python comes down to low-level vs high-level process creation, portability, and ease of use.\n",
        "\n",
        "     os.fork(): Low-Level Process Creation\n",
        "     Creates a child process by duplicating the current process.\n",
        "     Returns:\n",
        "            0 in the child process\n",
        "            PID of the child in the parent process\n",
        "    \n",
        "     multiprocessing: High-Level Process Management\n",
        "     Provides a platform-independent way to create and manage separate processes.\n",
        "     Includes tools for:\n",
        "             Creating processes (Process )\n",
        "             Sharing data between them (Queue, Pipe, Value)\n",
        "             Synchronizing processes (Lock, Event)\n",
        "\n",
        "19. What is the importance of closing a file in Python?\n",
        "  -  Closing a file in Python is crucial because it ensures that\n",
        "     system resources are freed, data is safely written, and file integrity is maintained.\n",
        "     * Flushes Data to Disk.\n",
        "     * Frees Up System Resources.\n",
        "     * Avoids File Corruption or Incomplete Writes.\n",
        "     * Prevents File Locking Issues.\n",
        "     * Automatically Done Using with Statement.\n",
        "\n",
        "20. What is the difference between file.read() and file.readline() in Python?\n",
        "  -  file.read()- Reads the entire content (or specified number of characters)\n",
        "      Example-\n",
        "      with open(\"example.txt\", \"r\") as file:\n",
        "          content = file.read()\n",
        "          print(content)\n",
        "     file.readline() – Reads one line at a time\n",
        "      Example-\n",
        "      with open(\"example.txt\", \"r\") as file:\n",
        "          line = file.readline()\n",
        "          print(line)\n",
        "\n",
        "21. What is the logging module in Python used for?\n",
        "  -  The logging module in Python is used to record messages from your\n",
        "     program, which helps in:\n",
        "     * Debugging\n",
        "     * Monitoring\n",
        "     * Error reporting\n",
        "     * Tracking the flow of execution\n",
        "\n",
        "22. What is the os module in Python used for in file handling?\n",
        "  -  The os module in Python is used to interact with the operating system,\n",
        "     and it provides powerful tools for file and directory handling beyond what the built-in open() function offers.\n",
        "\n",
        "23. What are the challenges associated with memory management in Python?\n",
        "  -  Common Challenges with Memory Management in Python:-\n",
        "    * Python uses reference counting to manage memory.\n",
        "    * The GIL allows only one thread to execute Python bytecode at a\n",
        "      time, which limits true parallelism on multi-core processors.\n",
        "    * Python manages memory in blocks and pools, which can\n",
        "      lead to    fragmentation—especially in long-running applications with\n",
        "      dynamic memory usage patterns.\n",
        "    * Python objects (like integers, strings, and lists) are heavier\n",
        "      than their equivalents in low-level languages (like C).\n",
        "\n",
        "24.  How do you raise an exception manually in Python?\n",
        "  -  In Python, you can raise an exception manually using the raise\n",
        "     statement. This is useful when you want to signal that an error has occurred based on custom logic or input validation.\n",
        "     SYNTAX-\n",
        "         raise ExceptionType(\"Optional error message\")\n",
        "\n",
        "\n",
        "25. Why is it important to use multithreading in certain applications?\n",
        "  -  Multithreading is important in certain applications because it\n",
        "     allows a program to perform multiple tasks at the same time, improving responsiveness and efficiency—especially when dealing with I/O-bound operations.\n",
        "     * Improves Responsiveness\n",
        "     * Handles I/O-bound Tasks Efficiently\n",
        "     * Reduces Idle Time\n",
        "     * Enables Real-Time Updates\n",
        "     * Simplifies Some Designs   "
      ],
      "metadata": {
        "id": "Pj2teLZi2Qim"
      }
    },
    {
      "cell_type": "code",
      "source": [
        "1. How can you open a file for writing in Python and write a string to it?"
      ],
      "metadata": {
        "id": "9u07xn8ItGp2"
      },
      "execution_count": null,
      "outputs": []
    },
    {
      "cell_type": "code",
      "source": [
        "# Open a file for writing\n",
        "with open('example.txt', 'w') as file:\n",
        "    file.write('Hello, world!')"
      ],
      "metadata": {
        "id": "6t71W44YuBdd"
      },
      "execution_count": 2,
      "outputs": []
    },
    {
      "cell_type": "code",
      "source": [
        "file_path = \"output.txt\"  # this is a string\n",
        "with open(file_path, \"w\") as file:\n",
        "    file.write(\"This is written to the file.\")\n"
      ],
      "metadata": {
        "id": "b5YoMl9puD53"
      },
      "execution_count": 3,
      "outputs": []
    },
    {
      "cell_type": "code",
      "source": [
        "2. Write a Python program to read the contents of a file and print each line?"
      ],
      "metadata": {
        "id": "E4Zvqk8Nulv2"
      },
      "execution_count": null,
      "outputs": []
    },
    {
      "cell_type": "code",
      "source": [
        "# Define the path to the file\n",
        "file_path = 'example.txt'  # Replace with your file name or path\n",
        "\n",
        "# Open the file in read mode\n",
        "with open(file_path, 'r') as file:\n",
        "    # Read and print each line\n",
        "    for line in file:\n",
        "        print(line.strip())  # .strip() removes the newline character at the end"
      ],
      "metadata": {
        "colab": {
          "base_uri": "https://localhost:8080/"
        },
        "id": "gXx_YdoDuO7e",
        "outputId": "35f7358e-d4e3-4854-a1c3-0d17fe0fc99b"
      },
      "execution_count": 4,
      "outputs": [
        {
          "output_type": "stream",
          "name": "stdout",
          "text": [
            "Hello, world!\n"
          ]
        }
      ]
    },
    {
      "cell_type": "code",
      "source": [
        "3.  How would you handle a case where the file doesn't exist while trying to open it for reading?"
      ],
      "metadata": {
        "id": "2Wbx0WxQufZZ"
      },
      "execution_count": null,
      "outputs": []
    },
    {
      "cell_type": "code",
      "source": [
        "file_path = 'example.txt'  # Replace with your file name\n",
        "\n",
        "try:\n",
        "    with open(file_path, 'r') as file:\n",
        "        for line in file:\n",
        "            print(line.strip())\n",
        "except FileNotFoundError:\n",
        "    print(f\"Error: The file '{file_path}' does not exist.\")"
      ],
      "metadata": {
        "colab": {
          "base_uri": "https://localhost:8080/"
        },
        "id": "4Awe-JjUu72y",
        "outputId": "babd9fe8-3bf9-4cef-edbe-8074ad666d34"
      },
      "execution_count": 8,
      "outputs": [
        {
          "output_type": "stream",
          "name": "stdout",
          "text": [
            "Hello, world!\n"
          ]
        }
      ]
    },
    {
      "cell_type": "code",
      "source": [
        "4. Write a Python script that reads from one file and writes its content to another file?"
      ],
      "metadata": {
        "id": "wuJGwB0Ru9C6"
      },
      "execution_count": null,
      "outputs": []
    },
    {
      "cell_type": "code",
      "source": [
        "# Define source and destination file paths\n",
        "source_file = 'source.txt'       # Replace with your source file\n",
        "destination_file = 'destination.txt'  # Replace with your destination file\n",
        "\n",
        "try:\n",
        "    # Open the source file for reading\n",
        "    with open(source_file, 'r') as src:\n",
        "        # Open the destination file for writing\n",
        "        with open(destination_file, 'w') as dst:\n",
        "            # Read from source and write to destination\n",
        "            for line in src:\n",
        "                dst.write(line)\n",
        "    print(f\"Contents copied from '{source_file}' to '{destination_file}'.\")\n",
        "except FileNotFoundError:\n",
        "    print(f\"Error: The file '{source_file}' does not exist.\")\n",
        "except Exception as e:\n",
        "    print(f\"An error occurred: {e}\")"
      ],
      "metadata": {
        "id": "WEcdPZS4u7zx"
      },
      "execution_count": null,
      "outputs": []
    },
    {
      "cell_type": "code",
      "source": [
        "5. How would you catch and handle division by zero error in Python?"
      ],
      "metadata": {
        "id": "4YFKfAQLvRcN"
      },
      "execution_count": null,
      "outputs": []
    },
    {
      "cell_type": "code",
      "source": [
        "try:\n",
        "    numerator = 10\n",
        "    denominator = 0\n",
        "    result = numerator / denominator\n",
        "    print(f\"Result: {result}\")\n",
        "except ZeroDivisionError:\n",
        "    print(\"Error: Cannot divide by zero.\")"
      ],
      "metadata": {
        "colab": {
          "base_uri": "https://localhost:8080/"
        },
        "id": "rZaccQxlu7w9",
        "outputId": "3b2e2b56-03bd-4531-d434-33e9d22ad7b5"
      },
      "execution_count": 10,
      "outputs": [
        {
          "output_type": "stream",
          "name": "stdout",
          "text": [
            "Error: Cannot divide by zero.\n"
          ]
        }
      ]
    },
    {
      "cell_type": "code",
      "source": [
        "6. Write a Python program that logs an error message to a log file when a division by zero exception occurs?"
      ],
      "metadata": {
        "id": "ByH5p0PRvkCg"
      },
      "execution_count": null,
      "outputs": []
    },
    {
      "cell_type": "code",
      "source": [
        "import logging\n",
        "\n",
        "# Configure logging\n",
        "logging.basicConfig(\n",
        "    filename='error.log',         # Log file name\n",
        "    level=logging.ERROR,          # Log level\n",
        "    format='%(asctime)s - %(levelname)s - %(message)s'\n",
        ")\n",
        "\n",
        "# Division logic with exception handling\n",
        "try:\n",
        "    numerator = 10\n",
        "    denominator = 0\n",
        "    result = numerator / denominator\n",
        "    print(f\"Result: {result}\")\n",
        "except ZeroDivisionError as e:\n",
        "    logging.error(\"Attempted to divide by zero: %s\", e)\n",
        "    print(\"An error occurred. Please check the log file 'error.log'.\")\n"
      ],
      "metadata": {
        "colab": {
          "base_uri": "https://localhost:8080/"
        },
        "id": "Nz4AycbBu7ur",
        "outputId": "5f157b51-986a-4686-b333-b550346a9318"
      },
      "execution_count": 11,
      "outputs": [
        {
          "output_type": "stream",
          "name": "stderr",
          "text": [
            "ERROR:root:Attempted to divide by zero: division by zero\n"
          ]
        },
        {
          "output_type": "stream",
          "name": "stdout",
          "text": [
            "An error occurred. Please check the log file 'error.log'.\n"
          ]
        }
      ]
    },
    {
      "cell_type": "code",
      "source": [
        "7. How do you log information at different levels (INFO, ERROR, WARNING) in Python using the logging module?"
      ],
      "metadata": {
        "id": "8DxLZEEyv1cb"
      },
      "execution_count": null,
      "outputs": []
    },
    {
      "cell_type": "code",
      "source": [
        "import logging\n",
        "\n",
        "# Configure the logger\n",
        "logging.basicConfig(\n",
        "    filename='app.log',            # Log file name\n",
        "    level=logging.DEBUG,           # Set the minimum level to capture\n",
        "    format='%(asctime)s - %(levelname)s - %(message)s'\n",
        ")\n",
        "\n",
        "# Log messages at different levels\n",
        "logging.debug(\"This is a debug message.\")\n",
        "logging.info(\"This is an info message.\")\n",
        "logging.warning(\"This is a warning.\")\n",
        "logging.error(\"This is an error.\")\n",
        "logging.critical(\"This is critical.\")"
      ],
      "metadata": {
        "colab": {
          "base_uri": "https://localhost:8080/"
        },
        "id": "Y8wi2SSZv8Q4",
        "outputId": "9d5bbf46-3454-499d-d9da-cb4563ead42c"
      },
      "execution_count": 12,
      "outputs": [
        {
          "output_type": "stream",
          "name": "stderr",
          "text": [
            "WARNING:root:This is a warning.\n",
            "ERROR:root:This is an error.\n",
            "CRITICAL:root:This is critical.\n"
          ]
        }
      ]
    },
    {
      "cell_type": "code",
      "source": [
        "8. Write a program to handle a file opening error using exception handling?"
      ],
      "metadata": {
        "id": "VoUunwOqwFY9"
      },
      "execution_count": null,
      "outputs": []
    },
    {
      "cell_type": "code",
      "source": [
        "file_path = 'nonexistent_file.txt'  # Replace with your file path\n",
        "\n",
        "try:\n",
        "    with open(file_path, 'r') as file:\n",
        "        content = file.read()\n",
        "        print(content)\n",
        "except FileNotFoundError:\n",
        "    print(f\"Error: The file '{file_path}' was not found.\")\n",
        "except PermissionError:\n",
        "    print(f\"Error: You do not have permission to open '{file_path}'.\")\n",
        "except Exception as e:\n",
        "    print(f\"An unexpected error occurred: {e}\")"
      ],
      "metadata": {
        "colab": {
          "base_uri": "https://localhost:8080/"
        },
        "id": "FB9e7z8Tv8Oa",
        "outputId": "2152aced-0ebc-4f6d-9b5c-4419761844a6"
      },
      "execution_count": 13,
      "outputs": [
        {
          "output_type": "stream",
          "name": "stdout",
          "text": [
            "Error: The file 'nonexistent_file.txt' was not found.\n"
          ]
        }
      ]
    },
    {
      "cell_type": "code",
      "source": [
        "9. How can you read a file line by line and store its content in a list in Python?"
      ],
      "metadata": {
        "id": "4Nri-_hMwQlL"
      },
      "execution_count": null,
      "outputs": []
    },
    {
      "cell_type": "code",
      "source": [
        "file_path = 'example.txt'  # Replace with your file name\n",
        "\n",
        "with open(file_path, 'r') as file:\n",
        "    lines = file.readlines()  # Reads all lines into a list\n",
        "\n",
        "# Optional: Strip newline characters\n",
        "lines = [line.strip() for line in lines]\n",
        "\n",
        "print(lines)"
      ],
      "metadata": {
        "colab": {
          "base_uri": "https://localhost:8080/"
        },
        "id": "8sDDhMZ8v8MM",
        "outputId": "336fc97a-7d90-4ac7-8c4a-85c9fadcafd2"
      },
      "execution_count": 14,
      "outputs": [
        {
          "output_type": "stream",
          "name": "stdout",
          "text": [
            "['Hello, world!']\n"
          ]
        }
      ]
    },
    {
      "cell_type": "code",
      "source": [
        "10.  How can you append data to an existing file in Python?"
      ],
      "metadata": {
        "id": "QAo5Mdv6wcIa"
      },
      "execution_count": null,
      "outputs": []
    },
    {
      "cell_type": "code",
      "source": [
        "file_path = 'example.txt'  # Your file path\n",
        "\n",
        "with open(file_path, 'a') as file:\n",
        "    file.write(\"This line will be added at the end.\\n\")"
      ],
      "metadata": {
        "id": "n-RfUoRHv8Jz"
      },
      "execution_count": 15,
      "outputs": []
    },
    {
      "cell_type": "code",
      "source": [
        "11.Write a Python program that uses a try-except block to handle an error when attempting to access a\n",
        "dictionary key that doesn't exist?"
      ],
      "metadata": {
        "id": "B5ugLP0hwlPJ"
      },
      "execution_count": null,
      "outputs": []
    },
    {
      "cell_type": "code",
      "source": [
        "my_dict = {'name': 'Alice', 'age': 30}\n",
        "\n",
        "key_to_access = 'address'  # This key does not exist in my_dict\n",
        "\n",
        "try:\n",
        "    value = my_dict[key_to_access]\n",
        "    print(f\"The value for '{key_to_access}' is {value}.\")\n",
        "except KeyError:\n",
        "    print(f\"Error: The key '{key_to_access}' does not exist in the dictionary.\")"
      ],
      "metadata": {
        "colab": {
          "base_uri": "https://localhost:8080/"
        },
        "id": "T7tQsXrEv8Hp",
        "outputId": "5c7523a7-e6b4-42ff-d9c6-562950001587"
      },
      "execution_count": 16,
      "outputs": [
        {
          "output_type": "stream",
          "name": "stdout",
          "text": [
            "Error: The key 'address' does not exist in the dictionary.\n"
          ]
        }
      ]
    },
    {
      "cell_type": "code",
      "source": [
        "12. Write a program that demonstrates using multiple except blocks to handle different types of exceptions?"
      ],
      "metadata": {
        "id": "-LmQc3W6wuph"
      },
      "execution_count": null,
      "outputs": []
    },
    {
      "cell_type": "code",
      "source": [
        "try:\n",
        "    # Input two numbers\n",
        "    num1 = int(input(\"Enter the numerator: \"))\n",
        "    num2 = int(input(\"Enter the denominator: \"))\n",
        "\n",
        "    # Perform division\n",
        "    result = num1 / num2\n",
        "    print(f\"Result: {result}\")\n",
        "\n",
        "    # Access a list element\n",
        "    my_list = [1, 2, 3]\n",
        "    index = int(input(\"Enter an index to access in the list: \"))\n",
        "    print(f\"Element at index {index}: {my_list[index]}\")\n",
        "\n",
        "except ZeroDivisionError:\n",
        "    print(\"Error: You cannot divide by zero.\")\n",
        "\n",
        "except ValueError:\n",
        "    print(\"Error: Invalid input. Please enter a valid integer.\")\n",
        "\n",
        "except IndexError:\n",
        "    print(\"Error: List index out of range.\")\n",
        "\n",
        "except Exception as e:\n",
        "    print(f\"An unexpected error occurred: {e}\")"
      ],
      "metadata": {
        "colab": {
          "base_uri": "https://localhost:8080/"
        },
        "id": "4u6Fbj7yv8AM",
        "outputId": "af685fa3-5818-4890-f232-44713cb6188e"
      },
      "execution_count": 17,
      "outputs": [
        {
          "output_type": "stream",
          "name": "stdout",
          "text": [
            "Enter the numerator: 0\n",
            "Enter the denominator: 2\n",
            "Result: 0.0\n",
            "Enter an index to access in the list: 1\n",
            "Element at index 1: 2\n"
          ]
        }
      ]
    },
    {
      "cell_type": "code",
      "source": [
        "13.How would you check if a file exists before attempting to read it in Python?"
      ],
      "metadata": {
        "id": "LBs2-E5Zw4TT"
      },
      "execution_count": null,
      "outputs": []
    },
    {
      "cell_type": "code",
      "source": [
        "import os\n",
        "\n",
        "file_path = 'example.txt'\n",
        "\n",
        "if os.path.exists(file_path):\n",
        "    with open(file_path, 'r') as file:\n",
        "        content = file.read()\n",
        "        print(content)\n",
        "else:\n",
        "    print(f\"The file '{file_path}' does not exist.\")"
      ],
      "metadata": {
        "colab": {
          "base_uri": "https://localhost:8080/"
        },
        "id": "tDx18d-NxB0c",
        "outputId": "58e8606b-768c-4266-8f8a-f1be9294bf80"
      },
      "execution_count": 18,
      "outputs": [
        {
          "output_type": "stream",
          "name": "stdout",
          "text": [
            "Hello, world!This line will be added at the end.\n",
            "\n"
          ]
        }
      ]
    },
    {
      "cell_type": "code",
      "source": [
        "14. Write a program that uses the logging module to log both informational and error messages."
      ],
      "metadata": {
        "id": "UxlBfYEzxHFM"
      },
      "execution_count": null,
      "outputs": []
    },
    {
      "cell_type": "code",
      "source": [
        "import logging\n",
        "\n",
        "# Configure logging\n",
        "logging.basicConfig(\n",
        "    filename='app.log',             # Log file name\n",
        "    level=logging.DEBUG,            # Log all levels DEBUG and above\n",
        "    format='%(asctime)s - %(levelname)s - %(message)s'\n",
        ")\n",
        "\n",
        "# Log an informational message\n",
        "logging.info(\"The program started successfully.\")\n",
        "\n",
        "try:\n",
        "    # Simulate some operation that might fail\n",
        "    x = 10\n",
        "    y = 0\n",
        "    result = x / y\n",
        "    logging.info(f\"Division result is {result}\")\n",
        "except ZeroDivisionError:\n",
        "    logging.error(\"Error: Division by zero occurred.\")\n",
        "\n",
        "logging.info(\"The program ended.\")"
      ],
      "metadata": {
        "colab": {
          "base_uri": "https://localhost:8080/"
        },
        "id": "r-fAjWg8xBxR",
        "outputId": "f05b7342-4f63-4f41-ea93-7fc538ea2832"
      },
      "execution_count": 19,
      "outputs": [
        {
          "output_type": "stream",
          "name": "stderr",
          "text": [
            "ERROR:root:Error: Division by zero occurred.\n"
          ]
        }
      ]
    },
    {
      "cell_type": "code",
      "source": [
        "15.  Write a Python program that prints the content of a file and handles the case when the file is empty."
      ],
      "metadata": {
        "id": "fTgUy3_oxP14"
      },
      "execution_count": null,
      "outputs": []
    },
    {
      "cell_type": "code",
      "source": [
        "file_path = 'example.txt'  # Replace with your file path\n",
        "\n",
        "try:\n",
        "    with open(file_path, 'r') as file:\n",
        "        content = file.read()\n",
        "        if content:\n",
        "            print(content)\n",
        "        else:\n",
        "            print(f\"The file '{file_path}' is empty.\")\n",
        "except FileNotFoundError:\n",
        "    print(f\"Error: The file '{file_path}' does not exist.\")\n",
        "except Exception as e:\n",
        "    print(f\"An unexpected error occurred: {e}\")"
      ],
      "metadata": {
        "colab": {
          "base_uri": "https://localhost:8080/"
        },
        "id": "znaIt7t_xBpP",
        "outputId": "5cdf86e3-062a-41ec-f040-29b322219961"
      },
      "execution_count": 20,
      "outputs": [
        {
          "output_type": "stream",
          "name": "stdout",
          "text": [
            "Hello, world!This line will be added at the end.\n",
            "\n"
          ]
        }
      ]
    },
    {
      "cell_type": "code",
      "source": [
        "16.  Demonstrate how to use memory profiling to check the memory usage of a small program."
      ],
      "metadata": {
        "id": "ij5MZPnCxZHS"
      },
      "execution_count": null,
      "outputs": []
    },
    {
      "cell_type": "code",
      "source": [
        "#Step 1: Install memory_profiler\n",
        "pip install memory-profiler\n",
        "#Step 2: Example Python script with memory profiling\n",
        "from memory_profiler import profile\n",
        "\n",
        "@profile\n",
        "def create_large_list():\n",
        "    large_list = []\n",
        "    for i in range(100000):\n",
        "        large_list.append(i)\n",
        "    return large_list\n",
        "\n",
        "if __name__ == '__main__':\n",
        "    create_large_list()\n",
        "#Step 3: Run the script with memory profiling enabled\n",
        "python -m memory_profiler your_script.py"
      ],
      "metadata": {
        "id": "1lv3b9MNxBZZ"
      },
      "execution_count": null,
      "outputs": []
    },
    {
      "cell_type": "code",
      "source": [
        "17. Write a Python program to create and write a list of numbers to a file, one number per line."
      ],
      "metadata": {
        "id": "xNvZghOjx9t0"
      },
      "execution_count": null,
      "outputs": []
    },
    {
      "cell_type": "code",
      "source": [
        "numbers = [10, 20, 30, 40, 50]  # Example list of numbers\n",
        "file_path = 'numbers.txt'        # Output file\n",
        "\n",
        "with open(file_path, 'w') as file:\n",
        "    for number in numbers:\n",
        "        file.write(f\"{number}\\n\")  # Write each number followed by a newline\n",
        "\n",
        "print(f\"Numbers written to '{file_path}'.\")"
      ],
      "metadata": {
        "colab": {
          "base_uri": "https://localhost:8080/"
        },
        "id": "lZaL7y_Pxw-z",
        "outputId": "e37a2a76-861e-406c-ed0b-ad785eaade7f"
      },
      "execution_count": 23,
      "outputs": [
        {
          "output_type": "stream",
          "name": "stdout",
          "text": [
            "Numbers written to 'numbers.txt'.\n"
          ]
        }
      ]
    },
    {
      "cell_type": "code",
      "source": [
        "18.How would you implement a basic logging setup that logs to a file with rotation after 1MB?"
      ],
      "metadata": {
        "id": "OUtkcVPcyGnL"
      },
      "execution_count": null,
      "outputs": []
    },
    {
      "cell_type": "code",
      "source": [
        "import logging\n",
        "from logging.handlers import RotatingFileHandler\n",
        "\n",
        "# Create logger\n",
        "logger = logging.getLogger('my_logger')\n",
        "logger.setLevel(logging.DEBUG)  # Log all levels DEBUG and above\n",
        "\n",
        "# Create rotating file handler\n",
        "handler = RotatingFileHandler(\n",
        "    'app.log',      # Log file name\n",
        "    maxBytes=1_000_000,  # 1MB\n",
        "    backupCount=3       # Keep up to 3 backup files\n",
        ")\n",
        "\n",
        "# Create formatter and set it for the handler\n",
        "formatter = logging.Formatter('%(asctime)s - %(levelname)s - %(message)s')\n",
        "handler.setFormatter(formatter)\n",
        "\n",
        "# Add handler to logger\n",
        "logger.addHandler(handler)\n",
        "\n",
        "# Example usage\n",
        "logger.info(\"This is an informational message.\")\n",
        "logger.error(\"This is an error message.\")"
      ],
      "metadata": {
        "colab": {
          "base_uri": "https://localhost:8080/"
        },
        "id": "ZIA8nomcyPn8",
        "outputId": "c7eae744-20db-488b-a960-e952347420cd"
      },
      "execution_count": 24,
      "outputs": [
        {
          "output_type": "stream",
          "name": "stderr",
          "text": [
            "INFO:my_logger:This is an informational message.\n",
            "ERROR:my_logger:This is an error message.\n"
          ]
        }
      ]
    },
    {
      "cell_type": "code",
      "source": [
        "19. Write a program that handles both IndexError and KeyError using a try-except block?"
      ],
      "metadata": {
        "id": "pvJ_cziUyQjN"
      },
      "execution_count": null,
      "outputs": []
    },
    {
      "cell_type": "code",
      "source": [
        "my_list = [10, 20, 30]\n",
        "my_dict = {'a': 1, 'b': 2}\n",
        "\n",
        "try:\n",
        "    # Attempt to access an invalid list index\n",
        "    print(my_list[5])\n",
        "\n",
        "    # Attempt to access a non-existent dictionary key\n",
        "    print(my_dict['c'])\n",
        "\n",
        "except IndexError:\n",
        "    print(\"Error: List index out of range.\")\n",
        "\n",
        "except KeyError:\n",
        "    print(\"Error: Dictionary key not found.\")"
      ],
      "metadata": {
        "colab": {
          "base_uri": "https://localhost:8080/"
        },
        "id": "vn3r4uYsyPk9",
        "outputId": "fd7c7438-eeff-4480-f4d2-f57cd844672f"
      },
      "execution_count": 25,
      "outputs": [
        {
          "output_type": "stream",
          "name": "stdout",
          "text": [
            "Error: List index out of range.\n"
          ]
        }
      ]
    },
    {
      "cell_type": "code",
      "source": [
        "20. How would you open a file and read its contents using a context manager in Python?"
      ],
      "metadata": {
        "id": "9866HXYUyYts"
      },
      "execution_count": null,
      "outputs": []
    },
    {
      "cell_type": "code",
      "source": [
        "file_path = 'example.txt'  # Replace with your file name\n",
        "\n",
        "with open(file_path, 'r') as file:\n",
        "    content = file.read()\n",
        "\n",
        "print(content)"
      ],
      "metadata": {
        "colab": {
          "base_uri": "https://localhost:8080/"
        },
        "id": "1KfTtl1VyPiO",
        "outputId": "b2500240-1757-44cd-a2f2-023f4f65ff45"
      },
      "execution_count": 26,
      "outputs": [
        {
          "output_type": "stream",
          "name": "stdout",
          "text": [
            "Hello, world!This line will be added at the end.\n",
            "\n"
          ]
        }
      ]
    },
    {
      "cell_type": "code",
      "source": [
        "21. Write a Python program that reads a file and prints the number of occurrences of a specific word?"
      ],
      "metadata": {
        "id": "HEHxv6SQytdL"
      },
      "execution_count": null,
      "outputs": []
    },
    {
      "cell_type": "code",
      "source": [
        "file_path = 'example.txt'  # Replace with your file name\n",
        "word_to_count = 'python'   # Word to count (case-insensitive)\n",
        "\n",
        "try:\n",
        "    with open(file_path, 'r') as file:\n",
        "        content = file.read().lower()  # Convert content to lowercase for case-insensitive matching\n",
        "    # Split content into words (basic split by whitespace)\n",
        "    words = content.split()\n",
        "    count = words.count(word_to_count.lower())\n",
        "    print(f\"The word '{word_to_count}' occurs {count} times in the file.\")\n",
        "except FileNotFoundError:\n",
        "    print(f\"Error: The file '{file_path}' was not found.\")\n",
        "except Exception as e:\n",
        "    print(f\"An unexpected error occurred: {e}\")"
      ],
      "metadata": {
        "colab": {
          "base_uri": "https://localhost:8080/"
        },
        "id": "pSvEgkn2yPZ_",
        "outputId": "07fd9a2a-34ca-421a-aba3-524091004b65"
      },
      "execution_count": 27,
      "outputs": [
        {
          "output_type": "stream",
          "name": "stdout",
          "text": [
            "The word 'python' occurs 0 times in the file.\n"
          ]
        }
      ]
    },
    {
      "cell_type": "code",
      "source": [
        "22.How can you check if a file is empty before attempting to read its contents?"
      ],
      "metadata": {
        "id": "L5KGQ3_Py1_7"
      },
      "execution_count": null,
      "outputs": []
    },
    {
      "cell_type": "code",
      "source": [
        "import os\n",
        "\n",
        "file_path = 'example.txt'\n",
        "\n",
        "if os.path.exists(file_path) and os.path.getsize(file_path) > 0:\n",
        "    with open(file_path, 'r') as file:\n",
        "        content = file.read()\n",
        "        print(content)\n",
        "else:\n",
        "    print(f\"The file '{file_path}' is empty or does not exist.\")"
      ],
      "metadata": {
        "colab": {
          "base_uri": "https://localhost:8080/"
        },
        "id": "AaJCNrgVy6ky",
        "outputId": "458f2c1b-504f-4043-f5a3-b2351f4e3581"
      },
      "execution_count": 28,
      "outputs": [
        {
          "output_type": "stream",
          "name": "stdout",
          "text": [
            "Hello, world!This line will be added at the end.\n",
            "\n"
          ]
        }
      ]
    },
    {
      "cell_type": "code",
      "source": [
        "23.Write a Python program that writes to a log file when an error occurs during file handling."
      ],
      "metadata": {
        "id": "73m9Uljwy-qJ"
      },
      "execution_count": null,
      "outputs": []
    },
    {
      "cell_type": "code",
      "source": [
        "import logging\n",
        "\n",
        "# Configure logging to write errors to a log file\n",
        "logging.basicConfig(\n",
        "    filename='file_errors.log',\n",
        "    level=logging.ERROR,\n",
        "    format='%(asctime)s - %(levelname)s - %(message)s'\n",
        ")\n",
        "\n",
        "file_path = 'example.txt'  # Replace with your file path\n",
        "\n",
        "try:\n",
        "    with open(file_path, 'r') as file:\n",
        "        content = file.read()\n",
        "        print(content)\n",
        "except Exception as e:\n",
        "    logging.error(f\"An error occurred while handling the file: {e}\")\n",
        "    print(\"An error occurred. Please check the log file for details.\")"
      ],
      "metadata": {
        "colab": {
          "base_uri": "https://localhost:8080/"
        },
        "id": "L6Tj74Kmy6Yj",
        "outputId": "8ba9b51f-93b5-4573-c7b3-11ff997a20cb"
      },
      "execution_count": 29,
      "outputs": [
        {
          "output_type": "stream",
          "name": "stdout",
          "text": [
            "Hello, world!This line will be added at the end.\n",
            "\n"
          ]
        }
      ]
    },
    {
      "cell_type": "code",
      "source": [],
      "metadata": {
        "id": "reg5JIk6zGsb"
      },
      "execution_count": null,
      "outputs": []
    },
    {
      "cell_type": "markdown",
      "source": [],
      "metadata": {
        "id": "FwebCTG82Cxg"
      }
    }
  ]
}